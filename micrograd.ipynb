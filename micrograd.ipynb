{
  "nbformat": 4,
  "nbformat_minor": 0,
  "metadata": {
    "colab": {
      "provenance": []
    },
    "kernelspec": {
      "name": "python3",
      "display_name": "Python 3"
    },
    "language_info": {
      "name": "python"
    }
  },
  "cells": [
    {
      "cell_type": "markdown",
      "source": [
        "an NN is a mathematical expression that\n",
        "1. takes input as data & weights/biases as parameters\n",
        "2. followed by a loss function that measures accuracy of predictions (loss approaches $0$ as predictions approach targets/NN behaves well on training set)\n",
        "3. followed by backpropagation to backward the loss. backpropagation gets the gradient & tells us how to tune the parameters to decrease loss locally\n",
        "4. iterate $2-3$ many times (gradient descent) to approach loss minima"
      ],
      "metadata": {
        "id": "WeLsrmqLoOl4"
      }
    },
    {
      "cell_type": "code",
      "source": [
        "import numpy as np\n",
        "import matplotlib.pyplot as plt\n",
        "import math\n",
        "import torch"
      ],
      "metadata": {
        "id": "X0Ezdo4_erXl"
      },
      "execution_count": 45,
      "outputs": []
    },
    {
      "cell_type": "code",
      "execution_count": 56,
      "metadata": {
        "id": "TKGIwtCERmKP"
      },
      "outputs": [],
      "source": [
        "class Value:\n",
        "\n",
        "  def __init__(self, data, _children=(), _op=''):\n",
        "    self.data = data\n",
        "    self.grad = 0.0\n",
        "    self._backward = lambda: None\n",
        "    self._prev = set(_children)\n",
        "    self._op = _op\n",
        "\n",
        "  def __repr__(self):\n",
        "    return f'Value(data={self.data})'\n",
        "\n",
        "  def __add__(self, other):\n",
        "    other = other if isinstance(other, Value) else Value(other)\n",
        "    out = Value(self.data + other.data, (self, other), '+')\n",
        "    def _backward():\n",
        "      self.grad += 1.0 * out.grad # dL/dx chain rule (1.0 = local gradient)\n",
        "      other.grad += 1.0 * out.grad # dL/dy chain rule\n",
        "    out._backward = _backward\n",
        "    return out\n",
        "\n",
        "  def __radd__(self, other):\n",
        "    return self + other\n",
        "\n",
        "  def __mul__(self, other):\n",
        "    other = other if isinstance(other, Value) else Value(other)\n",
        "    out = Value(self.data * other.data, (self, other), '*')\n",
        "    def _backward():\n",
        "      self.grad += other.data * out.grad\n",
        "      other.grad += self.data * out.grad\n",
        "    out._backward = _backward\n",
        "    return out\n",
        "\n",
        "  def __rmul__(self, other):\n",
        "    return self * other\n",
        "\n",
        "  def __truediv__(self, other):\n",
        "    return self * other**-1\n",
        "\n",
        "  def __neg__(self):\n",
        "    return self * -1\n",
        "\n",
        "  def __sub__(self, other):\n",
        "    return self +  (-other)\n",
        "\n",
        "  def __pow__(self, other):\n",
        "    out = Value(self.data ** other, (self,), f'**{other}')\n",
        "    def _backward():\n",
        "      self.grad += other * (self.data ** (other - 1)) * out.grad\n",
        "    out._backward = _backward\n",
        "    return out\n",
        "\n",
        "  def exp(self): # e^x\n",
        "    x = self.data\n",
        "    out = Value(math.exp(x), (self,), 'exp')\n",
        "    def _backward():\n",
        "      self.grad += out.data * out.grad # d(e^x) / dx = e^x\n",
        "    self._backward = _backward\n",
        "    return out\n",
        "\n",
        "  def tanh(self):\n",
        "    x = self.data\n",
        "    t = (math.exp(2*x) - 1) / (math.exp(2*x) + 1)\n",
        "    def _backward():\n",
        "      self.grad += (1 - t**2) * out.grad\n",
        "    out = Value(t, (self,), 'tanh')\n",
        "    out._backward = _backward\n",
        "    return out\n",
        "\n",
        "  def backward(self):\n",
        "    def topsort(node):\n",
        "      stk, _visited = [node], set()\n",
        "      out = []\n",
        "\n",
        "      while stk:\n",
        "        n = stk.pop()\n",
        "        if n not in _visited:\n",
        "          _visited.add(n)\n",
        "          for child in n._prev:\n",
        "            stk.append(child)\n",
        "          out = [n] + out\n",
        "      return out\n",
        "\n",
        "    self.grad = 1.0\n",
        "    s = topsort(self)\n",
        "    for node in reversed(s):\n",
        "      node._backward()"
      ]
    },
    {
      "cell_type": "markdown",
      "source": [
        "$tanh(x) = \\frac{e^{2x}-1}{e^{2x}+1}$\n",
        "\n",
        "$\\frac{d}{dx}tanh(x) = 1 - tanh^2(x)$"
      ],
      "metadata": {
        "id": "jPjiXej4qUaL"
      }
    },
    {
      "cell_type": "markdown",
      "source": [
        "$xw + b$"
      ],
      "metadata": {
        "id": "NXKVbgTqh_gQ"
      }
    },
    {
      "cell_type": "code",
      "source": [
        "# inputs\n",
        "x1 = Value(2.0)\n",
        "x2 = Value(0.0)\n",
        "\n",
        "# weights\n",
        "w1 = Value(-3.0)\n",
        "w2 = Value(1.0)\n",
        "\n",
        "# bias\n",
        "b = Value(6.88137)\n",
        "\n",
        "# x1w1 + x2*w2 + b\n",
        "x1w1 = x1 * w1\n",
        "x2w2 = x2 * w2\n",
        "xw = x1w1 + x2w2\n",
        "n1 = xw + b\n",
        "n2 = n1.tanh()\n",
        "\n",
        "n2.backward()\n",
        "n1.grad"
      ],
      "metadata": {
        "colab": {
          "base_uri": "https://localhost:8080/",
          "height": 0
        },
        "id": "gCdRj4DIg4Jj",
        "outputId": "53b5feff-d982-43b4-fa39-5c17b49be816"
      },
      "execution_count": 17,
      "outputs": [
        {
          "output_type": "execute_result",
          "data": {
            "text/plain": [
              "0.5000025364090595"
            ]
          },
          "metadata": {},
          "execution_count": 17
        }
      ]
    },
    {
      "cell_type": "code",
      "source": [
        "x = Value(1.0)\n",
        "z = x + x\n",
        "z.backward()\n",
        "x.grad"
      ],
      "metadata": {
        "colab": {
          "base_uri": "https://localhost:8080/",
          "height": 0
        },
        "id": "zp4yI06slXxc",
        "outputId": "716c6813-3f4b-4267-f223-df19051dbb66"
      },
      "execution_count": 29,
      "outputs": [
        {
          "output_type": "execute_result",
          "data": {
            "text/plain": [
              "2.0"
            ]
          },
          "metadata": {},
          "execution_count": 29
        }
      ]
    },
    {
      "cell_type": "code",
      "source": [
        "q, visited = [], set()\n",
        "n2._prev = [n1]\n",
        "n1._prev = [xw, b]\n",
        "xw._prev = [x1w1, x2w2]\n",
        "\n",
        "def build_topo(node):\n",
        "  if node not in visited:\n",
        "    visited.add(node)\n",
        "    for child in node._prev:\n",
        "      build_topo(child)\n",
        "    q.append(node)\n",
        "\n",
        "build_topo(n2)\n",
        "q"
      ],
      "metadata": {
        "colab": {
          "base_uri": "https://localhost:8080/",
          "height": 0
        },
        "id": "6VCdXGJCemOL",
        "outputId": "d63f1e4c-28c6-4cf3-86df-9e521e3d63a4"
      },
      "execution_count": 33,
      "outputs": [
        {
          "output_type": "execute_result",
          "data": {
            "text/plain": [
              "[Value(data=-3.0),\n",
              " Value(data=2.0),\n",
              " Value(data=-6.0),\n",
              " Value(data=1.0),\n",
              " Value(data=0.0),\n",
              " Value(data=0.0),\n",
              " Value(data=-6.0),\n",
              " Value(data=6.88137),\n",
              " Value(data=0.8813700000000004),\n",
              " Value(data=0.7071049876722272)]"
            ]
          },
          "metadata": {},
          "execution_count": 33
        }
      ]
    },
    {
      "cell_type": "code",
      "source": [
        "def topsort(node):\n",
        "  stk, _visited = [node], set()\n",
        "  out = []\n",
        "\n",
        "  while stk:\n",
        "    n = stk.pop()\n",
        "    if n not in _visited:\n",
        "      _visited.add(n)\n",
        "      for child in n._prev:\n",
        "        stk.append(child)\n",
        "      out = [n] + out\n",
        "  return out\n",
        "\n",
        "topsort(n2)"
      ],
      "metadata": {
        "colab": {
          "base_uri": "https://localhost:8080/",
          "height": 0
        },
        "id": "0PSmmUXSf-3a",
        "outputId": "8f2bfa9e-2fd6-4f5f-8cfb-803efa596afa"
      },
      "execution_count": 34,
      "outputs": [
        {
          "output_type": "execute_result",
          "data": {
            "text/plain": [
              "[Value(data=-3.0),\n",
              " Value(data=2.0),\n",
              " Value(data=-6.0),\n",
              " Value(data=1.0),\n",
              " Value(data=0.0),\n",
              " Value(data=0.0),\n",
              " Value(data=-6.0),\n",
              " Value(data=6.88137),\n",
              " Value(data=0.8813700000000004),\n",
              " Value(data=0.7071049876722272)]"
            ]
          },
          "metadata": {},
          "execution_count": 34
        }
      ]
    },
    {
      "cell_type": "code",
      "source": [
        "n2._backward()\n",
        "n1.grad"
      ],
      "metadata": {
        "colab": {
          "base_uri": "https://localhost:8080/",
          "height": 0
        },
        "id": "3nk9m_r0czYc",
        "outputId": "acc92c70-2783-4ddd-e349-c6fd2c65e6d9"
      },
      "execution_count": 20,
      "outputs": [
        {
          "output_type": "execute_result",
          "data": {
            "text/plain": [
              "0.5000025364090595"
            ]
          },
          "metadata": {},
          "execution_count": 20
        }
      ]
    },
    {
      "cell_type": "code",
      "source": [
        "n1._backward()\n",
        "xw.grad"
      ],
      "metadata": {
        "colab": {
          "base_uri": "https://localhost:8080/",
          "height": 0
        },
        "id": "ZBcYliq2dCPO",
        "outputId": "219c62fb-a324-45bc-c3aa-ed0b8504103b"
      },
      "execution_count": 21,
      "outputs": [
        {
          "output_type": "execute_result",
          "data": {
            "text/plain": [
              "0.5000025364090595"
            ]
          },
          "metadata": {},
          "execution_count": 21
        }
      ]
    },
    {
      "cell_type": "code",
      "source": [
        "1 - n2.data**2"
      ],
      "metadata": {
        "colab": {
          "base_uri": "https://localhost:8080/",
          "height": 0
        },
        "id": "RyKZREoul4WN",
        "outputId": "aa8f2fd2-cc48-4046-ca4e-c1c15d268d4e"
      },
      "execution_count": 4,
      "outputs": [
        {
          "output_type": "execute_result",
          "data": {
            "text/plain": [
              "0.5000025364090595"
            ]
          },
          "metadata": {},
          "execution_count": 4
        }
      ]
    },
    {
      "cell_type": "markdown",
      "source": [
        "$ \\frac{d (xw + b)}{d x_2} = \\frac{d (xw+b)}{d (x_2w_2)} \\frac{d (x_2w_2)}{d x_2} = w_2 \\times x_2w_2\\text{.grad}$"
      ],
      "metadata": {
        "id": "ocfi6RQt8Zyc"
      }
    },
    {
      "cell_type": "code",
      "source": [
        "x1w1.grad = 0.5\n",
        "x2w2.grad = 0.5\n",
        "x2.grad = w2.data * x2w2.grad\n",
        "w2.grad = x2.data * x2w2.grad\n",
        "xw.grad = 0.5\n",
        "b.grad = 0.5"
      ],
      "metadata": {
        "id": "gOjdV_rGqQqj"
      },
      "execution_count": 5,
      "outputs": []
    },
    {
      "cell_type": "code",
      "source": [
        "a = Value(2.0)\n",
        "b = Value(-3.0)\n",
        "c = Value(10.0)\n",
        "e = a * b\n",
        "d = e + c\n",
        "L1 = d * Value(-2.0)"
      ],
      "metadata": {
        "id": "CrzFrJlYUPG4"
      },
      "execution_count": 6,
      "outputs": []
    },
    {
      "cell_type": "code",
      "source": [
        "h = 0.001\n",
        "a = Value(2.0)\n",
        "b = Value(-3.0)\n",
        "c = Value(10.0)\n",
        "e = a * b\n",
        "d = e + c\n",
        "f = Value(-2.0)\n",
        "L2 = d * f + Value(h)"
      ],
      "metadata": {
        "id": "IuQTb3z2acWn"
      },
      "execution_count": 7,
      "outputs": []
    },
    {
      "cell_type": "code",
      "source": [
        "(L2.data - L1.data) / h"
      ],
      "metadata": {
        "colab": {
          "base_uri": "https://localhost:8080/",
          "height": 0
        },
        "id": "V8AruLifagYe",
        "outputId": "a225000f-3c13-4c27-b491-91a8006c61af"
      },
      "execution_count": 8,
      "outputs": [
        {
          "output_type": "execute_result",
          "data": {
            "text/plain": [
              "1.000000000000334"
            ]
          },
          "metadata": {},
          "execution_count": 8
        }
      ]
    },
    {
      "cell_type": "markdown",
      "source": [
        "$a = 2$\n",
        "\n",
        "$b = -3$\n",
        "\n",
        "$c=10$\n",
        "\n",
        "$e=ab$\n",
        "\n",
        "$d = e + c$\n",
        "\n",
        "$f = -2$\n",
        "\n",
        "$ L = df $\n",
        "\n",
        "$\\frac{dL}{de} = \\frac{dL}{dd}\\frac{dd}{de} = f\\frac{dd}{de} = f = -2$\n",
        "\n",
        "$\\frac{dL}{da} = \\frac{dL}{de}\\frac{de}{da} = fb$"
      ],
      "metadata": {
        "id": "Yypm1_CFh7U8"
      }
    },
    {
      "cell_type": "code",
      "source": [
        "a.data += 0.01 * a.grad\n",
        "b.data += 0.01 * b.grad\n",
        "c.data += 0.01 * c.grad\n",
        "f.data += 0.01 * f.grad\n",
        "\n",
        "e = a * b\n",
        "d = e + c\n",
        "L = d * f\n",
        "L"
      ],
      "metadata": {
        "colab": {
          "base_uri": "https://localhost:8080/",
          "height": 0
        },
        "id": "Ipd5GMDSc1Xa",
        "outputId": "162032ac-49cb-4784-c191-2154f12c78f1"
      },
      "execution_count": 9,
      "outputs": [
        {
          "output_type": "execute_result",
          "data": {
            "text/plain": [
              "Value(data=-8.0)"
            ]
          },
          "metadata": {},
          "execution_count": 9
        }
      ]
    },
    {
      "cell_type": "code",
      "source": [
        "r = np.arange(-5,5,0.2)\n",
        "plt.plot(r, np.tanh(r)); plt.grid()"
      ],
      "metadata": {
        "colab": {
          "base_uri": "https://localhost:8080/",
          "height": 265
        },
        "id": "nT1ExInmek4M",
        "outputId": "1a1f19a4-d5fe-4e18-9fd5-ebd22009eb90"
      },
      "execution_count": 10,
      "outputs": [
        {
          "output_type": "display_data",
          "data": {
            "text/plain": [
              "<Figure size 432x288 with 1 Axes>"
            ],
            "image/png": "[encoded data removed]"
          },
          "metadata": {
            "needs_background": "light"
          }
        }
      ]
    },
    {
      "cell_type": "code",
      "source": [
        "x1 = torch.Tensor([2.0]).double() ; x1.requires_grad = True\n",
        "x2 = torch.Tensor([0.0]).double() ; x2.requires_grad = True\n",
        "w1 = torch.Tensor([-3.0]).double() ; w1.requires_grad = True\n",
        "w2 = torch.Tensor([1.0]).double() ; w2.requires_grad = True\n",
        "b = torch.Tensor([6.88137]).double() ; b.requires_grad = True"
      ],
      "metadata": {
        "id": "9rP7nVQjsJQR"
      },
      "execution_count": 48,
      "outputs": []
    },
    {
      "cell_type": "code",
      "source": [
        "n = x1*w1 + x2*w2 + b\n",
        "o = torch.tanh(n)\n",
        "\n",
        "print(o.data.item())\n",
        "o.backward()"
      ],
      "metadata": {
        "colab": {
          "base_uri": "https://localhost:8080/",
          "height": 0
        },
        "id": "db7DzSSLsdv3",
        "outputId": "5e809da7-0281-4ce6-d6fa-82622e01a013"
      },
      "execution_count": 50,
      "outputs": [
        {
          "output_type": "stream",
          "name": "stdout",
          "text": [
            "0.7071050214706146\n"
          ]
        }
      ]
    },
    {
      "cell_type": "markdown",
      "source": [
        "neuron from micrograd"
      ],
      "metadata": {
        "id": "lETaKauJRqAf"
      }
    },
    {
      "cell_type": "code",
      "source": [
        "import random\n",
        "\n",
        "class Neuron:\n",
        "\n",
        "  # nin: # weights (dimension of input)\n",
        "  def __init__(self, nin):\n",
        "    self.w = [Value(random.uniform(-1, 1)) for _ in range(nin)]\n",
        "    self.b = Value(random.uniform(-1, 1))\n",
        "\n",
        "  def  __call__(self, x):\n",
        "    # eval wx + b\n",
        "    activation = sum((wi * xi for wi, xi in zip(self.w, x)), self.b)\n",
        "    out = activation.tanh()\n",
        "    return out\n",
        "\n",
        "  def parameters(self):\n",
        "    return self.w + [self.b]\n",
        "\n",
        "n = Neuron(2)\n",
        "n([2.0, 3.0])"
      ],
      "metadata": {
        "colab": {
          "base_uri": "https://localhost:8080/",
          "height": 0
        },
        "id": "0CkEThsLRpZY",
        "outputId": "6054d94b-4473-4f40-9f55-c89a08d25557"
      },
      "execution_count": 131,
      "outputs": [
        {
          "output_type": "execute_result",
          "data": {
            "text/plain": [
              "Value(data=0.9034814061141629)"
            ]
          },
          "metadata": {},
          "execution_count": 131
        }
      ]
    },
    {
      "cell_type": "markdown",
      "source": [
        "how come grads evaluate correctly despite never specifying `_prev` / `_children`?"
      ],
      "metadata": {
        "id": "-pshreFETzXG"
      }
    },
    {
      "cell_type": "code",
      "source": [
        "class Layer:\n",
        "\n",
        "  # nin:\n",
        "  # nout:\n",
        "  def __init__(self, nin, nout):\n",
        "    self.neurons = [Neuron(nin) for _ in range(nout)]\n",
        "\n",
        "  def __call__(self, x):\n",
        "    outs = [n(x) for n in self.neurons]\n",
        "    if len(outs) == 1:\n",
        "      return outs[0]\n",
        "    return outs\n",
        "\n",
        "  def parameters(self):\n",
        "    return [p for neuron in self.neurons for p in neuron.parameters()]\n",
        "\n",
        "class MLP:\n",
        "\n",
        "  def __init__(self, nin, nouts):\n",
        "    size = [nin] + nouts\n",
        "    self.layers = [Layer(size[i], size[i + 1]) for i in range(len(nouts))]\n",
        "\n",
        "  def __call__(self, x):\n",
        "    for layer in self.layers:\n",
        "      x = layer(x)\n",
        "    return x\n",
        "\n",
        "  def parameters(self):\n",
        "    return [p for layer in self.layers for p in layer.parameters()]\n"
      ],
      "metadata": {
        "id": "T3J3dgH2TU57"
      },
      "execution_count": 132,
      "outputs": []
    },
    {
      "cell_type": "code",
      "source": [
        "# Layer(2, 3)([2.0, 3.0, -1.0])\n",
        "n = MLP(3, [4, 4, 1 ])\n",
        "n([2.0, 3.0, -1.0])"
      ],
      "metadata": {
        "colab": {
          "base_uri": "https://localhost:8080/"
        },
        "id": "pxjLsiOrVcWw",
        "outputId": "0cb6f76a-e2f3-4e93-b89b-640e02688cb0"
      },
      "execution_count": 250,
      "outputs": [
        {
          "output_type": "execute_result",
          "data": {
            "text/plain": [
              "Value(data=-0.8474545007247285)"
            ]
          },
          "metadata": {},
          "execution_count": 250
        }
      ]
    },
    {
      "cell_type": "code",
      "source": [
        "len(n.parameters())"
      ],
      "metadata": {
        "colab": {
          "base_uri": "https://localhost:8080/"
        },
        "id": "YyQOMQSthTNY",
        "outputId": "7a23f734-8fe6-4d54-cfe7-2be1c1cc5abe"
      },
      "execution_count": 251,
      "outputs": [
        {
          "output_type": "execute_result",
          "data": {
            "text/plain": [
              "41"
            ]
          },
          "metadata": {},
          "execution_count": 251
        }
      ]
    },
    {
      "cell_type": "markdown",
      "source": [
        "MSE loss"
      ],
      "metadata": {
        "id": "x51PLwfbX1js"
      }
    },
    {
      "cell_type": "code",
      "source": [
        "xs = [\n",
        "    [2.0, 3.0, -1.0],\n",
        "    [3.0, -1.0, 0.5],\n",
        "    [0.5, 1.0, 1.0],\n",
        "    [1.0, 1.0, -1.0],\n",
        "]\n",
        "ys = [1.0, -1.0, -1.0, 1.0]"
      ],
      "metadata": {
        "id": "bEv3YTIrXPEO"
      },
      "execution_count": 252,
      "outputs": []
    },
    {
      "cell_type": "code",
      "source": [
        "N = 20\n",
        "STEP_SIZE = 0.05\n",
        "\n",
        "for k in range(N):\n",
        "  # forward pass\n",
        "  # loss measures how well the NN is performing\n",
        "  # y_gt: y ground truth\n",
        "  ypred = [n(x) for x in xs]\n",
        "  loss = sum((y_out - y_gt) ** 2 for y_gt, y_out in zip(ys, ypred))\n",
        "\n",
        "  # zero grad\n",
        "  for p in n.parameters():\n",
        "    p.grad = 0.0\n",
        "\n",
        "  # backward pass\n",
        "  loss.backward()\n",
        "\n",
        "  # update\n",
        "  for p in n.parameters():\n",
        "    p.data += -STEP_SIZE * p.grad # -= to minimize loss; gradient is vector in direction of increasing loss\n",
        "  print(k, loss.data)"
      ],
      "metadata": {
        "colab": {
          "base_uri": "https://localhost:8080/"
        },
        "id": "JZCy5BHMXw1X",
        "outputId": "de026365-826a-4e7f-f5e4-bd2c9ecbb22e"
      },
      "execution_count": 362,
      "outputs": [
        {
          "output_type": "stream",
          "name": "stdout",
          "text": [
            "0 4.6939196012913255e-27\n",
            "1 4.6939196012913255e-27\n",
            "2 4.6939196012913255e-27\n",
            "3 4.6939196012913255e-27\n",
            "4 4.6939196012913255e-27\n",
            "5 4.6939196012913255e-27\n",
            "6 4.6939196012913255e-27\n",
            "7 4.6939196012913255e-27\n",
            "8 4.6939196012913255e-27\n",
            "9 4.6939196012913255e-27\n",
            "10 4.6939196012913255e-27\n",
            "11 4.6939196012913255e-27\n",
            "12 4.6939196012913255e-27\n",
            "13 4.6939196012913255e-27\n",
            "14 4.6939196012913255e-27\n",
            "15 4.6939196012913255e-27\n",
            "16 4.6939196012913255e-27\n",
            "17 4.6939196012913255e-27\n",
            "18 4.6939196012913255e-27\n",
            "19 4.6939196012913255e-27\n"
          ]
        }
      ]
    },
    {
      "cell_type": "code",
      "source": [
        "ypred"
      ],
      "metadata": {
        "colab": {
          "base_uri": "https://localhost:8080/"
        },
        "id": "Wyj7y6GtlDKb",
        "outputId": "c2903300-98e8-4d2d-9d84-f83049c06e81"
      },
      "execution_count": 363,
      "outputs": [
        {
          "output_type": "execute_result",
          "data": {
            "text/plain": [
              "[Value(data=0.9999999999999338),\n",
              " Value(data=-1.0),\n",
              " Value(data=-1.0),\n",
              " Value(data=0.9999999999999822)]"
            ]
          },
          "metadata": {},
          "execution_count": 363
        }
      ]
    }
  ]
}